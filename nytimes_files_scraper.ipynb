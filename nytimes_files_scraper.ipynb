{
 "cells": [
  {
   "cell_type": "code",
   "execution_count": 1,
   "metadata": {
    "collapsed": true
   },
   "outputs": [],
   "source": [
    "# %load https://gist.githubusercontent.com/kidpixo/2ec078d09834b5aa7869/raw/350f79fe4f2e09592404a76db18dcc01a961444b/ipython_inizialization.py\n",
    "import pandas as pd\n",
    "import glob"
   ]
  },
  {
   "cell_type": "code",
   "execution_count": 2,
   "metadata": {
    "collapsed": false,
    "scrolled": false
   },
   "outputs": [
    {
     "name": "stdout",
     "output_type": "stream",
     "text": [
      "presidential does not exist - ok\n",
      "====================\n",
      "nytimes_elections_results_states/Alabama Election Results 2016 – The New York Times.html - data lines 67\n",
      "nytimes_elections_results_states/Alaska Election Results 2016 – The New York Times.html - data lines 0\n",
      "- data lines 67\n",
      "nytimes_elections_results_states/Arizona Election Results 2016 – The New York Times.html - data lines 82\n",
      "nytimes_elections_results_states/Arkansas Election Results 2016 – The New York Times.html - data lines 157\n",
      "nytimes_elections_results_states/California Election Results 2016 – The New York Times.html - data lines 215\n",
      "nytimes_elections_results_states/Colorado Election Results 2016 – The New York Times.html - data lines 279\n",
      "nytimes_elections_results_states/Connecticut Election Results 2016 – The New York Times.html - data lines 448\n",
      "nytimes_elections_results_states/Delaware Election Results 2016 – The New York Times.html - data lines 451\n",
      "nytimes_elections_results_states/District of Columbia Election Results 2016 – The New York Times.html - data lines 0\n",
      "- data lines 451\n",
      "nytimes_elections_results_states/Florida Election Results 2016 – The New York Times.html - data lines 518\n",
      "nytimes_elections_results_states/Georgia Election Results 2016 – The New York Times.html - data lines 677\n",
      "nytimes_elections_results_states/Hawaii Election Results 2016 – The New York Times.html - data lines 681\n",
      "nytimes_elections_results_states/Idaho Election Results 2016 – The New York Times.html - data lines 725\n",
      "nytimes_elections_results_states/Illinois Election Results 2016 – The New York Times.html - data lines 827\n",
      "nytimes_elections_results_states/Indiana Election Results 2016 – The New York Times.html - data lines 919\n",
      "nytimes_elections_results_states/Iowa Election Results 2016 – The New York Times.html - data lines 1018\n",
      "nytimes_elections_results_states/Kansas Election Results 2016 – The New York Times.html - data lines 1123\n",
      "nytimes_elections_results_states/Kentucky Election Results 2016 – The New York Times.html - data lines 1243\n",
      "nytimes_elections_results_states/Louisiana Election Results 2016 – The New York Times.html - data lines 1307\n",
      "nytimes_elections_results_states/Maine Election Results 2016 – The New York Times.html - data lines 1805\n",
      "nytimes_elections_results_states/Maryland Election Results 2016 – The New York Times.html - data lines 1829\n",
      "nytimes_elections_results_states/Massachusetts Election Results 2016 – The New York Times.html - data lines 2180\n",
      "nytimes_elections_results_states/Michigan Election Results 2016 – The New York Times.html - data lines 2263\n",
      "nytimes_elections_results_states/Minnesota Election Results 2016 – The New York Times.html - data lines 2350\n",
      "nytimes_elections_results_states/Mississippi Election Results 2016 – The New York Times.html - data lines 2432\n",
      "nytimes_elections_results_states/Missouri Election Results 2016 – The New York Times.html - data lines 2547\n",
      "nytimes_elections_results_states/Montana Election Results 2016 – The New York Times.html - data lines 2603\n",
      "nytimes_elections_results_states/Nebraska Election Results 2016 – The New York Times.html - data lines 2696\n",
      "nytimes_elections_results_states/Nevada Election Results 2016 – The New York Times.html - data lines 2713\n",
      "nytimes_elections_results_states/New Hampshire Election Results 2016 – The New York Times.html - data lines 2950\n",
      "nytimes_elections_results_states/New Jersey Election Results 2016 – The New York Times.html - data lines 2971\n",
      "nytimes_elections_results_states/New Mexico Election Results 2016 – The New York Times.html - data lines 3004\n",
      "nytimes_elections_results_states/New York Election Results 2016 – The New York Times.html - data lines 3066\n",
      "nytimes_elections_results_states/North Carolina Election Results 2016 – The New York Times.html - data lines 3166\n",
      "nytimes_elections_results_states/North Dakota Election Results 2016 – The New York Times.html - data lines 3219\n",
      "nytimes_elections_results_states/Ohio Election Results 2016 – The New York Times.html - data lines 3307\n",
      "nytimes_elections_results_states/Oklahoma Election Results 2016 – The New York Times.html - data lines 3384\n",
      "nytimes_elections_results_states/Oregon Election Results 2016 – The New York Times.html - data lines 3420\n",
      "nytimes_elections_results_states/Pennsylvania Election Results 2016 – The New York Times.html - data lines 3487\n",
      "nytimes_elections_results_states/Rhode Island Election Results 2016 – The New York Times.html - data lines 3526\n",
      "nytimes_elections_results_states/South Carolina Election Results 2016 – The New York Times.html - data lines 3572\n",
      "nytimes_elections_results_states/South Dakota Election Results 2016 – The New York Times.html - data lines 3638\n",
      "nytimes_elections_results_states/Tennessee Election Results 2016 – The New York Times.html - data lines 3733\n",
      "nytimes_elections_results_states/Texas Election Results 2016 – The New York Times.html - data lines 3987\n",
      "nytimes_elections_results_states/Utah Election Results 2016 – The New York Times.html - data lines 4016\n",
      "nytimes_elections_results_states/Vermont Election Results 2016 – The New York Times.html - data lines 4262\n",
      "nytimes_elections_results_states/Virginia Election Results 2016 – The New York Times.html - data lines 4395\n",
      "nytimes_elections_results_states/Washington Election Results 2016 – The New York Times.html - data lines 4434\n",
      "nytimes_elections_results_states/West Virginia Election Results 2016 – The New York Times.html - data lines 4489\n",
      "nytimes_elections_results_states/Wisconsin Election Results 2016 – The New York Times.html - data lines 4561\n",
      "nytimes_elections_results_states/Wyoming Election Results 2016 – The New York Times.html - data lines 4584\n"
     ]
    }
   ],
   "source": [
    "# delete variable only if defined\n",
    "try:\n",
    "    presidential # does a exist in the current namespace\n",
    "except NameError:\n",
    "    print 'presidential does not exist - ok'\n",
    "else:\n",
    "    del presidential\n",
    "    print 'presidential does exist - deleting'\n",
    "print 20*'='    \n",
    "\n",
    "# cycle on all the files and extract\n",
    "for state in glob.glob('nytimes_elections_results_states/*html'):\n",
    "    # only the state name\n",
    "    print state,\n",
    "\n",
    "    try:\n",
    "        data = pd.read_html(state,attrs = {'class': 'eln-county-table'})\n",
    "    except ValueError: \n",
    "        print '- data lines 0'\n",
    "        pass\n",
    "    else :\n",
    "\n",
    "        # temporary DataFrames\n",
    "        tmp = data[0]\n",
    "        tmp.dropna(axis=0, how='all',inplace=True) # drop empty rows\n",
    "        tmp['State'] = state[33:-50] # add state\n",
    "\n",
    "        # check if the DataFrame already exist\n",
    "        try:\n",
    "            presidential # does a exist in the current namespace\n",
    "        except NameError:\n",
    "            presidential = tmp # define it\n",
    "        else:\n",
    "            presidential = presidential.append(tmp) # manipulate it\n",
    "        del tmp\n",
    "        print '- data lines {}'.format(presidential.shape[0])        "
   ]
  },
  {
   "cell_type": "code",
   "execution_count": 3,
   "metadata": {
    "collapsed": false
   },
   "outputs": [
    {
     "data": {
      "text/plain": [
       "49"
      ]
     },
     "execution_count": 3,
     "metadata": {},
     "output_type": "execute_result"
    }
   ],
   "source": [
    "len(presidential.State.unique())"
   ]
  },
  {
   "cell_type": "code",
   "execution_count": 4,
   "metadata": {
    "collapsed": false
   },
   "outputs": [],
   "source": [
    "# use sane columns names\n",
    "presidential.columns = [l.strip(' \\t\\n\\r.') for l in presidential.columns]\n",
    "# strip % character\n",
    "presidential['Rpt'] = presidential['Rpt'].apply( lambda x: x[0:-1])\n",
    "# regenerate index\n",
    "presidential.index = range(presidential.shape[0])"
   ]
  },
  {
   "cell_type": "code",
   "execution_count": 5,
   "metadata": {
    "collapsed": false
   },
   "outputs": [
    {
     "name": "stderr",
     "output_type": "stream",
     "text": [
      "/opt/local/Library/Frameworks/Python.framework/Versions/2.7/lib/python2.7/site-packages/pandas/core/indexing.py:140: SettingWithCopyWarning: \n",
      "A value is trying to be set on a copy of a slice from a DataFrame\n",
      "\n",
      "See the caveats in the documentation: http://pandas.pydata.org/pandas-docs/stable/indexing.html#indexing-view-versus-copy\n",
      "  self._setitem_with_indexer(indexer, value)\n"
     ]
    }
   ],
   "source": [
    "# some page use town some county, aggregate in column Place\n",
    "presidential['Place'] = ''\n",
    "presidential['Place'].loc[presidential['Vote by town'].dropna().index] = presidential['Vote by town'].dropna()\n",
    "presidential['Place'].loc[presidential['Vote by county'].dropna().index] = presidential['Vote by county'].dropna()"
   ]
  },
  {
   "cell_type": "code",
   "execution_count": 6,
   "metadata": {
    "collapsed": true
   },
   "outputs": [],
   "source": [
    "presidential.to_csv('nytimes_presidential_elections_2016_results_county.csv', index=False)"
   ]
  }
 ],
 "metadata": {
  "kernelspec": {
   "display_name": "Python 2",
   "language": "python",
   "name": "python2"
  },
  "language_info": {
   "codemirror_mode": {
    "name": "ipython",
    "version": 2
   },
   "file_extension": ".py",
   "mimetype": "text/x-python",
   "name": "python",
   "nbconvert_exporter": "python",
   "pygments_lexer": "ipython2",
   "version": "2.7.12"
  }
 },
 "nbformat": 4,
 "nbformat_minor": 1
}
